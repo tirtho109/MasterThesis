{
 "cells": [
  {
   "cell_type": "markdown",
   "metadata": {},
   "source": [
    "### Saturated Growth model\n",
    "\n",
    "u' = u(C - u)\n",
    "where C = 1 and u_0 = 0.01 (Example case)"
   ]
  },
  {
   "cell_type": "code",
   "execution_count": 1,
   "metadata": {},
   "outputs": [],
   "source": [
    "import jax.numpy as jnp"
   ]
  },
  {
   "cell_type": "code",
   "execution_count": 5,
   "metadata": {},
   "outputs": [
    {
     "ename": "ModuleNotFoundError",
     "evalue": "No module named 'fbpinns'",
     "output_type": "error",
     "traceback": [
      "\u001b[1;31m---------------------------------------------------------------------------\u001b[0m",
      "\u001b[1;31mModuleNotFoundError\u001b[0m                       Traceback (most recent call last)",
      "Cell \u001b[1;32mIn[5], line 1\u001b[0m\n\u001b[1;32m----> 1\u001b[0m \u001b[38;5;28;01mfrom\u001b[39;00m \u001b[38;5;21;01mfbpinns\u001b[39;00m\u001b[38;5;21;01m.\u001b[39;00m\u001b[38;5;21;01mproblems\u001b[39;00m \u001b[38;5;28;01mimport\u001b[39;00m HarmonicOscillator1D\n",
      "\u001b[1;31mModuleNotFoundError\u001b[0m: No module named 'fbpinns'"
     ]
    }
   ],
   "source": [
    "from fbpinns.problems import HarmonicOscillator1D"
   ]
  },
  {
   "cell_type": "code",
   "execution_count": 4,
   "metadata": {},
   "outputs": [
    {
     "name": "stdout",
     "output_type": "stream",
     "text": [
      "Requirement already satisfied: fbpinns in c:\\users\\tirth\\anaconda3\\envs\\fbpinns\\lib\\site-packages (0.2.0)\n",
      "Requirement already satisfied: ipython>=8.12.0 in c:\\users\\tirth\\anaconda3\\envs\\fbpinns\\lib\\site-packages (from fbpinns) (8.18.1)\n",
      "Requirement already satisfied: jax>=0.4.8 in c:\\users\\tirth\\anaconda3\\envs\\fbpinns\\lib\\site-packages (from fbpinns) (0.4.24)\n",
      "Requirement already satisfied: matplotlib>=3.7.1 in c:\\users\\tirth\\anaconda3\\envs\\fbpinns\\lib\\site-packages (from fbpinns) (3.8.2)\n",
      "Requirement already satisfied: numpy>=1.24.2 in c:\\users\\tirth\\anaconda3\\envs\\fbpinns\\lib\\site-packages (from fbpinns) (1.26.4)\n",
      "Requirement already satisfied: optax>=0.1.4 in c:\\users\\tirth\\anaconda3\\envs\\fbpinns\\lib\\site-packages (from fbpinns) (0.1.9)\n",
      "Requirement already satisfied: scipy>=1.10.1 in c:\\users\\tirth\\anaconda3\\envs\\fbpinns\\lib\\site-packages (from fbpinns) (1.12.0)\n",
      "Requirement already satisfied: tensorboardx>=2.6 in c:\\users\\tirth\\anaconda3\\envs\\fbpinns\\lib\\site-packages (from fbpinns) (2.6.2.2)\n",
      "Requirement already satisfied: decorator in c:\\users\\tirth\\anaconda3\\envs\\fbpinns\\lib\\site-packages (from ipython>=8.12.0->fbpinns) (5.1.1)\n",
      "Requirement already satisfied: jedi>=0.16 in c:\\users\\tirth\\anaconda3\\envs\\fbpinns\\lib\\site-packages (from ipython>=8.12.0->fbpinns) (0.19.1)\n",
      "Requirement already satisfied: matplotlib-inline in c:\\users\\tirth\\anaconda3\\envs\\fbpinns\\lib\\site-packages (from ipython>=8.12.0->fbpinns) (0.1.6)\n",
      "Requirement already satisfied: prompt-toolkit<3.1.0,>=3.0.41 in c:\\users\\tirth\\anaconda3\\envs\\fbpinns\\lib\\site-packages (from ipython>=8.12.0->fbpinns) (3.0.42)\n",
      "Requirement already satisfied: pygments>=2.4.0 in c:\\users\\tirth\\anaconda3\\envs\\fbpinns\\lib\\site-packages (from ipython>=8.12.0->fbpinns) (2.17.2)\n",
      "Requirement already satisfied: stack-data in c:\\users\\tirth\\anaconda3\\envs\\fbpinns\\lib\\site-packages (from ipython>=8.12.0->fbpinns) (0.6.2)\n",
      "Requirement already satisfied: traitlets>=5 in c:\\users\\tirth\\anaconda3\\envs\\fbpinns\\lib\\site-packages (from ipython>=8.12.0->fbpinns) (5.14.1)\n",
      "Requirement already satisfied: typing-extensions in c:\\users\\tirth\\anaconda3\\envs\\fbpinns\\lib\\site-packages (from ipython>=8.12.0->fbpinns) (4.9.0)\n",
      "Requirement already satisfied: exceptiongroup in c:\\users\\tirth\\anaconda3\\envs\\fbpinns\\lib\\site-packages (from ipython>=8.12.0->fbpinns) (1.2.0)\n",
      "Requirement already satisfied: colorama in c:\\users\\tirth\\anaconda3\\envs\\fbpinns\\lib\\site-packages (from ipython>=8.12.0->fbpinns) (0.4.6)\n",
      "Requirement already satisfied: ml-dtypes>=0.2.0 in c:\\users\\tirth\\anaconda3\\envs\\fbpinns\\lib\\site-packages (from jax>=0.4.8->fbpinns) (0.3.2)\n",
      "Requirement already satisfied: opt-einsum in c:\\users\\tirth\\anaconda3\\envs\\fbpinns\\lib\\site-packages (from jax>=0.4.8->fbpinns) (3.3.0)\n",
      "Requirement already satisfied: importlib-metadata>=4.6 in c:\\users\\tirth\\anaconda3\\envs\\fbpinns\\lib\\site-packages (from jax>=0.4.8->fbpinns) (7.0.1)\n",
      "Requirement already satisfied: contourpy>=1.0.1 in c:\\users\\tirth\\anaconda3\\envs\\fbpinns\\lib\\site-packages (from matplotlib>=3.7.1->fbpinns) (1.2.0)\n",
      "Requirement already satisfied: cycler>=0.10 in c:\\users\\tirth\\anaconda3\\envs\\fbpinns\\lib\\site-packages (from matplotlib>=3.7.1->fbpinns) (0.12.1)\n",
      "Requirement already satisfied: fonttools>=4.22.0 in c:\\users\\tirth\\anaconda3\\envs\\fbpinns\\lib\\site-packages (from matplotlib>=3.7.1->fbpinns) (4.48.1)\n",
      "Requirement already satisfied: kiwisolver>=1.3.1 in c:\\users\\tirth\\anaconda3\\envs\\fbpinns\\lib\\site-packages (from matplotlib>=3.7.1->fbpinns) (1.4.5)\n",
      "Requirement already satisfied: packaging>=20.0 in c:\\users\\tirth\\anaconda3\\envs\\fbpinns\\lib\\site-packages (from matplotlib>=3.7.1->fbpinns) (23.2)\n",
      "Requirement already satisfied: pillow>=8 in c:\\users\\tirth\\anaconda3\\envs\\fbpinns\\lib\\site-packages (from matplotlib>=3.7.1->fbpinns) (10.2.0)\n",
      "Requirement already satisfied: pyparsing>=2.3.1 in c:\\users\\tirth\\anaconda3\\envs\\fbpinns\\lib\\site-packages (from matplotlib>=3.7.1->fbpinns) (3.1.1)\n",
      "Requirement already satisfied: python-dateutil>=2.7 in c:\\users\\tirth\\anaconda3\\envs\\fbpinns\\lib\\site-packages (from matplotlib>=3.7.1->fbpinns) (2.8.2)\n",
      "Requirement already satisfied: importlib-resources>=3.2.0 in c:\\users\\tirth\\anaconda3\\envs\\fbpinns\\lib\\site-packages (from matplotlib>=3.7.1->fbpinns) (6.1.1)\n",
      "Requirement already satisfied: absl-py>=0.7.1 in c:\\users\\tirth\\anaconda3\\envs\\fbpinns\\lib\\site-packages (from optax>=0.1.4->fbpinns) (2.1.0)\n",
      "Requirement already satisfied: chex>=0.1.7 in c:\\users\\tirth\\anaconda3\\envs\\fbpinns\\lib\\site-packages (from optax>=0.1.4->fbpinns) (0.1.85)\n",
      "Requirement already satisfied: jaxlib>=0.1.37 in c:\\users\\tirth\\anaconda3\\envs\\fbpinns\\lib\\site-packages (from optax>=0.1.4->fbpinns) (0.4.23)\n",
      "Requirement already satisfied: protobuf>=3.20 in c:\\users\\tirth\\anaconda3\\envs\\fbpinns\\lib\\site-packages (from tensorboardx>=2.6->fbpinns) (4.25.2)\n",
      "Requirement already satisfied: toolz>=0.9.0 in c:\\users\\tirth\\anaconda3\\envs\\fbpinns\\lib\\site-packages (from chex>=0.1.7->optax>=0.1.4->fbpinns) (0.12.1)\n",
      "Requirement already satisfied: zipp>=0.5 in c:\\users\\tirth\\anaconda3\\envs\\fbpinns\\lib\\site-packages (from importlib-metadata>=4.6->jax>=0.4.8->fbpinns) (3.17.0)\n",
      "Requirement already satisfied: parso<0.9.0,>=0.8.3 in c:\\users\\tirth\\anaconda3\\envs\\fbpinns\\lib\\site-packages (from jedi>=0.16->ipython>=8.12.0->fbpinns) (0.8.3)\n",
      "Requirement already satisfied: wcwidth in c:\\users\\tirth\\anaconda3\\envs\\fbpinns\\lib\\site-packages (from prompt-toolkit<3.1.0,>=3.0.41->ipython>=8.12.0->fbpinns) (0.2.13)\n",
      "Requirement already satisfied: six>=1.5 in c:\\users\\tirth\\anaconda3\\envs\\fbpinns\\lib\\site-packages (from python-dateutil>=2.7->matplotlib>=3.7.1->fbpinns) (1.16.0)\n",
      "Requirement already satisfied: executing>=1.2.0 in c:\\users\\tirth\\anaconda3\\envs\\fbpinns\\lib\\site-packages (from stack-data->ipython>=8.12.0->fbpinns) (2.0.1)\n",
      "Requirement already satisfied: asttokens>=2.1.0 in c:\\users\\tirth\\anaconda3\\envs\\fbpinns\\lib\\site-packages (from stack-data->ipython>=8.12.0->fbpinns) (2.4.1)\n",
      "Requirement already satisfied: pure-eval in c:\\users\\tirth\\anaconda3\\envs\\fbpinns\\lib\\site-packages (from stack-data->ipython>=8.12.0->fbpinns) (0.2.2)\n",
      "Note: you may need to restart the kernel to use updated packages.\n"
     ]
    }
   ],
   "source": [
    "pip install fbpinns"
   ]
  },
  {
   "cell_type": "code",
   "execution_count": null,
   "metadata": {},
   "outputs": [],
   "source": []
  }
 ],
 "metadata": {
  "kernelspec": {
   "display_name": "fbpinns",
   "language": "python",
   "name": "python3"
  },
  "language_info": {
   "codemirror_mode": {
    "name": "ipython",
    "version": 3
   },
   "file_extension": ".py",
   "mimetype": "text/x-python",
   "name": "python",
   "nbconvert_exporter": "python",
   "pygments_lexer": "ipython3",
   "version": "3.9.18"
  }
 },
 "nbformat": 4,
 "nbformat_minor": 2
}
